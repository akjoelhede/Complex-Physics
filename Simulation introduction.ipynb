{
 "cells": [
  {
   "cell_type": "markdown",
   "metadata": {},
   "source": [
    "# Simulation introduction\n",
    "\n",
    "Here i assume you have a basic understanding of \n",
    "- How to define a numpy array in 1 or 2 dimensions from various distributions (eg. all ones, random normal or some fraction of -1 and 1's)\n",
    "- Define a for loop and stop if some condition occurs\n",
    "- Define a function\n",
    "- Know how to use numpy to do calculations on numbers and arrays (eg exp and taking sum) \n",
    "- know how to read and write from elements of arrays of 1 and 2 dimensions\n",
    "- Visualize data using matplotlib\n",
    "\n",
    "If not use \"Python introduction.ipynb\" is a good place to brush up.\n",
    "\n",
    "The goal is that you will understand how to apply the Simulation template."
   ]
  },
  {
   "cell_type": "markdown",
   "metadata": {},
   "source": [
    "### Task 1, lets implement the SIR model:\n",
    "\n",
    "##### Task 1.1: State representation\n",
    "How can we repesent the population sizes? \n",
    "\n",
    "##### Task 1.2: Initialization\n",
    "Define the function init() which creates the state of 1% infectious, 99% susceptible and 0% recovered (no randomness here)"
   ]
  },
  {
   "cell_type": "code",
   "execution_count": 41,
   "metadata": {},
   "outputs": [],
   "source": [
    "import matplotlib.pyplot as plt\n",
    "import numpy as np"
   ]
  },
  {
   "cell_type": "code",
   "execution_count": 42,
   "metadata": {},
   "outputs": [],
   "source": [
    "def init():\n",
    "    inital_state = [0.01,0.99,0]\n",
    "    return inital_state"
   ]
  },
  {
   "cell_type": "markdown",
   "metadata": {},
   "source": [
    "\n",
    "##### Task 1.3: Stop criterion\n",
    "Define the function not_done() which returns \"true\" as long as liss than 90% are recovered\n"
   ]
  },
  {
   "cell_type": "code",
   "execution_count": 43,
   "metadata": {},
   "outputs": [],
   "source": [
    "def not_done(state):\n",
    "    is_not_done = state[-1]\n",
    "    if is_not_done < 0.70:\n",
    "        is_not_done = True \n",
    "    else:\n",
    "        is_not_done = False \n",
    "    return is_not_done"
   ]
  },
  {
   "cell_type": "markdown",
   "metadata": {},
   "source": [
    "##### Task 1.4: Update step\n",
    "Later in the course we will show how to discretize a model, but for now, apply the identity:\n",
    "\n",
    "$$\\frac{dx}{dt}=f(x)\\implies x_i=x_{i-1}+\\Delta t*f(x)$$\n",
    "\n",
    "As the update on each of the populations, eg. $S\\rightarrow S+\\Delta t\\times(-\\beta S I)$\n",
    "\n",
    "Use this to define the function update.\n",
    "\n",
    "You will want to add the parameters of the model af function arguments, ie alpha, beta and delta_t"
   ]
  },
  {
   "cell_type": "code",
   "execution_count": 47,
   "metadata": {},
   "outputs": [],
   "source": [
    "# this function should modify the state, ie not return anything\n",
    "\n",
    "def update(state,beta,gamma,dt): \n",
    "\tI, S, R = state\n",
    "\n",
    "\tstate[1] = S + dt * (-beta*S*I)\n",
    "\n",
    "\tstate[0] = I + dt * (beta*S*I-gamma*I)\n",
    "\n",
    "\tstate[2] = R + dt * (gamma*I)"
   ]
  },
  {
   "cell_type": "markdown",
   "metadata": {},
   "source": [
    "##### Task 1.5: Statistic to track\n",
    "Define the function calc_stat which returns the size of each of the three populations. If state is defined correctly, this just returns its argument. Very simple :) often this will calculate some mean value."
   ]
  },
  {
   "cell_type": "code",
   "execution_count": 48,
   "metadata": {},
   "outputs": [],
   "source": [
    "def calc_stat(state):\n",
    "    stat = state.copy()\n",
    "    return stat"
   ]
  },
  {
   "cell_type": "markdown",
   "metadata": {},
   "source": [
    "##### Task 1.6 Finally, wrap it up\n",
    "Define the parameters of the model, add them to the function call to \"update\" and plot the size of each group over time.\n",
    "\n",
    "Define the parameters to be beta=0.5, gamma=1, dt=0.01"
   ]
  },
  {
   "cell_type": "code",
   "execution_count": 49,
   "metadata": {},
   "outputs": [
    {
     "data": {
      "text/plain": [
       "<matplotlib.legend.Legend at 0x7f7e90a20a50>"
      ]
     },
     "execution_count": 49,
     "metadata": {},
     "output_type": "execute_result"
    },
    {
     "data": {
      "image/png": "[encoded data removed]",
      "text/plain": [
       "<Figure size 432x288 with 1 Axes>"
      ]
     },
     "metadata": {
      "needs_background": "light"
     },
     "output_type": "display_data"
    }
   ],
   "source": [
    "# define parameters here (beta, gamma, dt)\n",
    "beta = 2\n",
    "gamma = 0.5\n",
    "dt = 0.01\n",
    "\n",
    "state = init()\n",
    "recorded_stats = []\n",
    "while(not_done(state)):\n",
    "    update(state,beta,gamma,dt)\n",
    "    recorded_stats.append(calc_stat(state))\n",
    "recorded_stats = np.array(recorded_stats)\n",
    "\n",
    "# Do plotting here\n",
    "\n",
    "plt.plot(np.arange(len(recorded_stats))*dt, recorded_stats)\n",
    "plt.xlabel(\"time\")\n",
    "plt.ylabel(\"population fraction\")\n",
    "plt.legend([\"Susceptible\", \"Infectious\", \"Recovered\"])\n"
   ]
  },
  {
   "cell_type": "markdown",
   "metadata": {},
   "source": [
    "### Task 2: 2d Array SIR model\n",
    "\n",
    "Now, we want to add a bit of array complexity into the mix (like basically all problems in the rest of the course)\n",
    "\n",
    "Now, we want to modify the model to have serveral populations which only interact with their neighboors (Let's say they are kommunes). So we have NxN sites which each have their own S, I and R fraction. \n",
    "\n",
    "##### Task 2.1: How should the new data structure look?\n",
    "Hint: if \"state\" is 3xNxM dimensional, state[0] is a NxM array. \n",
    "\n",
    "##### Task 2.2: Update initialization function\n",
    "New initialization: to add a bit of randomness, generate the NxN from [0-0.01] using np.random.rand(...)\\*0.01. Then calculate the susceptible population as 1-infectious. It makes sense for state[0] to be the NxN array of S's, state[1] to be the I's and state[2] to be the R's\n",
    "\n",
    "##### Task 2.3: Update not_done function\n",
    "We now stop when any site has more than 99% recovered. Hint, np.max() is useful here\n",
    "\n",
    "##### Task 2.4: Update \"update\" function\n",
    "Change the $I$ in the $-\\beta S I$ terms be the sum of the site and the neighboors. To do this, Let I be the NxN array, then we use the function np.roll() as follows:\n",
    "\n",
    "I_sum = I + np.roll(I, 1, axis=0) + np.roll(I, -1, axis=0) + np.roll(I, 1, axis=1) + np.roll(I, -1, axis=1)\n",
    "\n",
    "This \"rolls\" the array to the left, then to the right, then up and then down.\n",
    "\n",
    "##### Task 2.5: Update calc_stat function\n",
    "Calculate the mean suceptibility, infectionsness and recovered fraction across all NxN groups.\n",
    "\n",
    "#### Task 2.6: Finalize\n",
    "Run this simulation with the same parameters as before, and for N choose 50 (can be usefull setting to a lower number for debugging)"
   ]
  },
  {
   "cell_type": "code",
   "execution_count": null,
   "metadata": {},
   "outputs": [],
   "source": []
  }
 ],
 "metadata": {
  "kernelspec": {
   "display_name": "Python 3.7.7 ('tf')",
   "language": "python",
   "name": "python3"
  },
  "language_info": {
   "codemirror_mode": {
    "name": "ipython",
    "version": 3
   },
   "file_extension": ".py",
   "mimetype": "text/x-python",
   "name": "python",
   "nbconvert_exporter": "python",
   "pygments_lexer": "ipython3",
   "version": "3.7.7"
  },
  "latex_envs": {
   "LaTeX_envs_menu_present": true,
   "autoclose": false,
   "autocomplete": true,
   "bibliofile": "biblio.bib",
   "cite_by": "apalike",
   "current_citInitial": 1,
   "eqLabelWithNumbers": true,
   "eqNumInitial": 1,
   "hotkeys": {
    "equation": "Ctrl-E",
    "itemize": "Ctrl-I"
   },
   "labels_anchors": false,
   "latex_user_defs": false,
   "report_style_numbering": false,
   "user_envs_cfg": false
  },
  "toc": {
   "base_numbering": 1,
   "nav_menu": {},
   "number_sections": true,
   "sideBar": true,
   "skip_h1_title": false,
   "title_cell": "Table of Contents",
   "title_sidebar": "Contents",
   "toc_cell": false,
   "toc_position": {},
   "toc_section_display": true,
   "toc_window_display": false
  },
  "varInspector": {
   "cols": {
    "lenName": 16,
    "lenType": 16,
    "lenVar": 40
   },
   "kernels_config": {
    "python": {
     "delete_cmd_postfix": "",
     "delete_cmd_prefix": "del ",
     "library": "var_list.py",
     "varRefreshCmd": "print(var_dic_list())"
    },
    "r": {
     "delete_cmd_postfix": ") ",
     "delete_cmd_prefix": "rm(",
     "library": "var_list.r",
     "varRefreshCmd": "cat(var_dic_list()) "
    }
   },
   "types_to_exclude": [
    "module",
    "function",
    "builtin_function_or_method",
    "instance",
    "_Feature"
   ],
   "window_display": false
  },
  "vscode": {
   "interpreter": {
    "hash": "9a349dbb93854d2db23c0e7332abcc31d5d53142f080979199291b8c297d9713"
   }
  }
 },
 "nbformat": 4,
 "nbformat_minor": 4
}

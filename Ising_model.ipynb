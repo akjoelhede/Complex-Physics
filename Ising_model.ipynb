{
 "cells": [
  {
   "cell_type": "code",
   "execution_count": 175,
   "metadata": {},
   "outputs": [],
   "source": [
    "import numpy as np\n",
    "import matplotlib.pyplot as plt"
   ]
  },
  {
   "cell_type": "code",
   "execution_count": 176,
   "metadata": {},
   "outputs": [],
   "source": [
    "#Define initial parameters\n",
    "L = 200\n",
    "J = 1\n",
    "kbt = 0.1\n",
    "n_max = 1000000\n",
    "n0 = 1\n"
   ]
  },
  {
   "cell_type": "code",
   "execution_count": 177,
   "metadata": {},
   "outputs": [],
   "source": [
    "#Define initial state matrix with -1 and 1 \n",
    "def init():\n",
    "\tinitial_state = np.random.choice(([-1,1]), (L,L))\n",
    "\treturn initial_state"
   ]
  },
  {
   "cell_type": "code",
   "execution_count": 178,
   "metadata": {},
   "outputs": [],
   "source": [
    "def not_done(state):\n",
    "    is_not_done = n0 < n_max\n",
    "    return is_not_done\n"
   ]
  },
  {
   "cell_type": "code",
   "execution_count": 179,
   "metadata": {},
   "outputs": [
    {
     "data": {
      "text/plain": [
       "-160000"
      ]
     },
     "execution_count": 179,
     "metadata": {},
     "output_type": "execute_result"
    }
   ],
   "source": [
    "-J*4*200*200"
   ]
  },
  {
   "cell_type": "code",
   "execution_count": 180,
   "metadata": {},
   "outputs": [
    {
     "data": {
      "text/plain": [
       "(-960, 45)"
      ]
     },
     "execution_count": 180,
     "metadata": {},
     "output_type": "execute_result"
    }
   ],
   "source": [
    "#Calculate the energy, this function takes a matrix and and calculates the energy \n",
    "def energy(M, h=0):\n",
    "\tE1 = 0\n",
    "\tM1 = 0\n",
    "\n",
    "\tfor i in range(len(M)):\n",
    "\t\tfor n in range(len(M)):\n",
    "\t\t\tcenter = M[i,n]\n",
    "\t\t\tright = np.roll(M[i],-1)[n]\n",
    "\t\t\tleft = np.roll(M[i],1)[n]\n",
    "\t\t\tlower = np.roll(M[:,n],-1)[i]\n",
    "\t\t\tupper = np.roll(M[:,n],1)[i]\n",
    "\n",
    "\t\t\tE1 += -J*center*(right+left+lower+upper)+h*center\n",
    "\t\t\tM1 += center\n",
    "\treturn E1, M1\n",
    "\n",
    "\n",
    "test_matrix = np.array([[1,2,3],[4,5,6],[7,8,9]])\n",
    "\n",
    "\n",
    "\n",
    "energy(test_matrix)"
   ]
  },
  {
   "cell_type": "code",
   "execution_count": 181,
   "metadata": {},
   "outputs": [
    {
     "data": {
      "text/plain": [
       "-54"
      ]
     },
     "execution_count": 181,
     "metadata": {},
     "output_type": "execute_result"
    }
   ],
   "source": [
    "def calc_energy(M,x,y, h=0):\n",
    "\n",
    "\tcenter = M[x,y]\n",
    "\tright = np.roll(M[x],-1)[y]\n",
    "\tleft = np.roll(M[x],1)[y]\n",
    "\tlower = np.roll(M[:,y],-1)[x]\n",
    "\tupper = np.roll(M[:,y],1)[x]\n",
    "\n",
    "\tE = -J*center*(left+right+upper+lower)+h*center\n",
    "\n",
    "\treturn E\n",
    "\n",
    "calc_energy(test_matrix, 0, 2)\n"
   ]
  },
  {
   "cell_type": "code",
   "execution_count": 182,
   "metadata": {},
   "outputs": [],
   "source": [
    "\n",
    "\n",
    "def update(M, E, mag):\n",
    "\tm = np.random.randint(0,L)\n",
    "\tn = np.random.randint(0,L)\n",
    "\tu = np.random.random()\n",
    "\n",
    "\tcurrent_energy = calc_energy(M,m,n)\n",
    "\tflipped_energy = -1*current_energy\n",
    "\n",
    "\tE_diff = (flipped_energy-current_energy)\n",
    "\n",
    "\tif np.exp(-E_diff/(kbt)) >= u:\n",
    "\t\tE += E_diff\n",
    "\t\tM[m,n] = M[m,n]*-1\n",
    "\t\tmag += 2*M[m,n]\n",
    "\n",
    "\treturn M, E, mag"
   ]
  },
  {
   "cell_type": "code",
   "execution_count": 183,
   "metadata": {},
   "outputs": [],
   "source": [
    "start_matrix = init()\n",
    "start_energy,start_magnet = energy(start_matrix)\n",
    "\n",
    "Energy_list = [start_energy] \n",
    "Magnet_list = [start_magnet]\n",
    "\n",
    "\n",
    "\n",
    "while n0<n_max:\n",
    "\ttemp = update(start_matrix,start_energy, start_magnet)\n",
    "\tEnergy_list.append(temp[1])\n",
    "\tMagnet_list.append(temp[2])\n",
    "\tstart_matrix, start_energy, start_magnet = temp\n",
    "\n",
    "\tn0 += 1\n",
    "\n"
   ]
  },
  {
   "cell_type": "code",
   "execution_count": 184,
   "metadata": {},
   "outputs": [
    {
     "data": {
      "text/plain": [
       "[<matplotlib.lines.Line2D at 0x28300e984f0>]"
      ]
     },
     "execution_count": 184,
     "metadata": {},
     "output_type": "execute_result"
    },
    {
     "data": {
      "image/png": "[encoded data removed]",
      "text/plain": [
       "<Figure size 432x288 with 1 Axes>"
      ]
     },
     "metadata": {
      "needs_background": "light"
     },
     "output_type": "display_data"
    }
   ],
   "source": [
    "plt.plot(Magnet_list, '.')"
   ]
  },
  {
   "cell_type": "code",
   "execution_count": 185,
   "metadata": {},
   "outputs": [
    {
     "data": {
      "text/plain": [
       "[<matplotlib.lines.Line2D at 0x28300e87a60>]"
      ]
     },
     "execution_count": 185,
     "metadata": {},
     "output_type": "execute_result"
    },
    {
     "data": {
      "image/png": "[encoded data removed]",
      "text/plain": [
       "<Figure size 432x288 with 1 Axes>"
      ]
     },
     "metadata": {
      "needs_background": "light"
     },
     "output_type": "display_data"
    }
   ],
   "source": [
    "plt.plot(Energy_list, '.')"
   ]
  },
  {
   "cell_type": "code",
   "execution_count": 186,
   "metadata": {},
   "outputs": [
    {
     "data": {
      "text/plain": [
       "<matplotlib.image.AxesImage at 0x28301b67760>"
      ]
     },
     "execution_count": 186,
     "metadata": {},
     "output_type": "execute_result"
    },
    {
     "data": {
      "image/png": "[encoded data removed]",
      "text/plain": [
       "<Figure size 432x288 with 1 Axes>"
      ]
     },
     "metadata": {
      "needs_background": "light"
     },
     "output_type": "display_data"
    }
   ],
   "source": [
    "plt.imshow(start_matrix)"
   ]
  },
  {
   "cell_type": "code",
   "execution_count": 150,
   "metadata": {},
   "outputs": [
    {
     "ename": "KeyboardInterrupt",
     "evalue": "",
     "output_type": "error",
     "traceback": [
      "\u001b[1;31m---------------------------------------------------------------------------\u001b[0m",
      "\u001b[1;31mKeyboardInterrupt\u001b[0m                         Traceback (most recent call last)",
      "\u001b[1;32mc:\\Users\\MAXIMUS\\OneDrive\\Dokumenter\\GitHub\\Complex-Physics\\Ising_model.ipynb Cell 13\u001b[0m in \u001b[0;36m<cell line: 3>\u001b[1;34m()\u001b[0m\n\u001b[0;32m      <a href='vscode-notebook-cell:/c%3A/Users/MAXIMUS/OneDrive/Dokumenter/GitHub/Complex-Physics/Ising_model.ipynb#X15sZmlsZQ%3D%3D?line=0'>1</a>\u001b[0m exp_E \u001b[39m=\u001b[39m []\n\u001b[0;32m      <a href='vscode-notebook-cell:/c%3A/Users/MAXIMUS/OneDrive/Dokumenter/GitHub/Complex-Physics/Ising_model.ipynb#X15sZmlsZQ%3D%3D?line=2'>3</a>\u001b[0m \u001b[39mfor\u001b[39;00m i \u001b[39min\u001b[39;00m \u001b[39mrange\u001b[39m(\u001b[39m0\u001b[39m,n_max):\n\u001b[0;32m      <a href='vscode-notebook-cell:/c%3A/Users/MAXIMUS/OneDrive/Dokumenter/GitHub/Complex-Physics/Ising_model.ipynb#X15sZmlsZQ%3D%3D?line=3'>4</a>\u001b[0m \t\u001b[39m#print(i)\u001b[39;00m\n\u001b[0;32m      <a href='vscode-notebook-cell:/c%3A/Users/MAXIMUS/OneDrive/Dokumenter/GitHub/Complex-Physics/Ising_model.ipynb#X15sZmlsZQ%3D%3D?line=4'>5</a>\u001b[0m \t\u001b[39m#print(Energy_list[0:i+1])\u001b[39;00m\n\u001b[1;32m----> <a href='vscode-notebook-cell:/c%3A/Users/MAXIMUS/OneDrive/Dokumenter/GitHub/Complex-Physics/Ising_model.ipynb#X15sZmlsZQ%3D%3D?line=5'>6</a>\u001b[0m \texp_E\u001b[39m.\u001b[39mappend((\u001b[39m1\u001b[39;49m\u001b[39m/\u001b[39;49mn_max\u001b[39m-\u001b[39;49mi)\u001b[39m*\u001b[39;49m\u001b[39msum\u001b[39;49m(Energy_list[\u001b[39m0\u001b[39;49m:i\u001b[39m+\u001b[39;49m\u001b[39m1\u001b[39;49m]))\n\u001b[0;32m      <a href='vscode-notebook-cell:/c%3A/Users/MAXIMUS/OneDrive/Dokumenter/GitHub/Complex-Physics/Ising_model.ipynb#X15sZmlsZQ%3D%3D?line=6'>7</a>\u001b[0m \u001b[39mprint\u001b[39m(n_max)\n",
      "\u001b[1;31mKeyboardInterrupt\u001b[0m: "
     ]
    }
   ],
   "source": [
    "exp_E = []\n",
    "\n",
    "for i in range(0,n_max):\n",
    "\t#print(i)\n",
    "\t#print(Energy_list[0:i+1])\n",
    "\texp_E.append((1/n_max-i)*sum(Energy_list[0:i+1]))\n",
    "print(n_max)"
   ]
  },
  {
   "cell_type": "code",
   "execution_count": null,
   "metadata": {},
   "outputs": [
    {
     "name": "stdout",
     "output_type": "stream",
     "text": [
      "(10000,)\n"
     ]
    }
   ],
   "source": [
    "temp = np.linspace(0,kbt,10000)\n",
    "print(temp.shape)"
   ]
  },
  {
   "cell_type": "code",
   "execution_count": null,
   "metadata": {},
   "outputs": [
    {
     "data": {
      "image/png": "[encoded data removed]",
      "text/plain": [
       "<Figure size 432x288 with 1 Axes>"
      ]
     },
     "metadata": {
      "needs_background": "light"
     },
     "output_type": "display_data"
    }
   ],
   "source": [
    "\n",
    "\n",
    "plt.plot(temp,exp_E)\n",
    "plt.yscale('log')\n"
   ]
  },
  {
   "cell_type": "code",
   "execution_count": null,
   "metadata": {},
   "outputs": [],
   "source": []
  }
 ],
 "metadata": {
  "kernelspec": {
   "display_name": "Python 3.9.10 ('tf')",
   "language": "python",
   "name": "python3"
  },
  "language_info": {
   "codemirror_mode": {
    "name": "ipython",
    "version": 3
   },
   "file_extension": ".py",
   "mimetype": "text/x-python",
   "name": "python",
   "nbconvert_exporter": "python",
   "pygments_lexer": "ipython3",
   "version": "3.9.10"
  },
  "orig_nbformat": 4,
  "vscode": {
   "interpreter": {
    "hash": "1878e3e05d455931b665703cb969c1635478e5bf1dd61c754cddfdfaba9f0c08"
   }
  }
 },
 "nbformat": 4,
 "nbformat_minor": 2
}

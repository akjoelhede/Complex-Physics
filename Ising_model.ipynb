{
 "cells": [
  {
   "cell_type": "code",
   "execution_count": 32,
   "metadata": {},
   "outputs": [],
   "source": [
    "import numpy as np\n",
    "import matplotlib.pyplot as plt"
   ]
  },
  {
   "cell_type": "code",
   "execution_count": 55,
   "metadata": {},
   "outputs": [],
   "source": [
    "#Define initial parameters\n",
    "L = 20\n",
    "J = 1\n",
    "kbt = 0.2\n",
    "n_max = 1000\n",
    "n0 = 1\n"
   ]
  },
  {
   "cell_type": "code",
   "execution_count": 56,
   "metadata": {},
   "outputs": [],
   "source": [
    "#Define initial state matrix with -1 and 1 \n",
    "def init():\n",
    "\tinitial_state = np.random.choice(([-1,1]), (L,L))\n",
    "\treturn initial_state"
   ]
  },
  {
   "cell_type": "code",
   "execution_count": 57,
   "metadata": {},
   "outputs": [],
   "source": [
    "def not_done(state):\n",
    "    is_not_done = n0 < n_max\n",
    "    return is_not_done\n"
   ]
  },
  {
   "cell_type": "code",
   "execution_count": 58,
   "metadata": {},
   "outputs": [
    {
     "data": {
      "text/plain": [
       "-160000"
      ]
     },
     "execution_count": 58,
     "metadata": {},
     "output_type": "execute_result"
    }
   ],
   "source": [
    "-J*4*200*200"
   ]
  },
  {
   "cell_type": "code",
   "execution_count": 59,
   "metadata": {},
   "outputs": [
    {
     "data": {
      "text/plain": [
       "(-960, 45)"
      ]
     },
     "execution_count": 59,
     "metadata": {},
     "output_type": "execute_result"
    }
   ],
   "source": [
    "#Calculate the energy, this function takes a matrix and and calculates the energy \n",
    "def energy(M, h=0):\n",
    "\tE1 = 0\n",
    "\tM1 = 0\n",
    "\n",
    "\tfor i in range(len(M)):\n",
    "\t\tfor n in range(len(M)):\n",
    "\t\t\tcenter = M[i,n]\n",
    "\t\t\tright = np.roll(M[i],-1)[n]\n",
    "\t\t\tleft = np.roll(M[i],1)[n]\n",
    "\t\t\tlower = np.roll(M[:,n],-1)[i]\n",
    "\t\t\tupper = np.roll(M[:,n],1)[i]\n",
    "\n",
    "\t\t\tE1 += -J*center*(right+left+lower+upper)+h*center\n",
    "\t\t\tM1 += center\n",
    "\treturn E1, M1\n",
    "\n",
    "\n",
    "test_matrix = np.array([[1,2,3],[4,5,6],[7,8,9]])\n",
    "\n",
    "\n",
    "\n",
    "energy(test_matrix)"
   ]
  },
  {
   "cell_type": "code",
   "execution_count": 60,
   "metadata": {},
   "outputs": [
    {
     "data": {
      "text/plain": [
       "-54"
      ]
     },
     "execution_count": 60,
     "metadata": {},
     "output_type": "execute_result"
    }
   ],
   "source": [
    "def calc_energy(M,x,y, h=0):\n",
    "\n",
    "\tcenter = M[x,y]\n",
    "\tright = np.roll(M[x],-1)[y]\n",
    "\tleft = np.roll(M[x],1)[y]\n",
    "\tlower = np.roll(M[:,y],-1)[x]\n",
    "\tupper = np.roll(M[:,y],1)[x]\n",
    "\n",
    "\tE = -J*center*(left+right+upper+lower)+h*center\n",
    "\n",
    "\treturn E\n",
    "\n",
    "calc_energy(test_matrix, 0, 2)\n"
   ]
  },
  {
   "cell_type": "code",
   "execution_count": 61,
   "metadata": {},
   "outputs": [],
   "source": [
    "\n",
    "\n",
    "def update(M, E, mag):\n",
    "\tm = np.random.randint(0,L)\n",
    "\tn = np.random.randint(0,L)\n",
    "\tu = np.random.random()\n",
    "\n",
    "\tcurrent_energy = calc_energy(M,m,n)\n",
    "\tflipped_energy = -1*current_energy\n",
    "\n",
    "\tE_diff = (flipped_energy-current_energy)\n",
    "\n",
    "\tif np.exp(-E_diff/(kbt)) >= u:\n",
    "\t\tE += E_diff\n",
    "\t\tM[m,n] = M[m,n]*-1\n",
    "\t\tmag += 2*M[m,n]\n",
    "\n",
    "\treturn M, E, mag"
   ]
  },
  {
   "cell_type": "code",
   "execution_count": 62,
   "metadata": {},
   "outputs": [],
   "source": [
    "start_matrix = init()\n",
    "start_energy,start_magnet = energy(start_matrix)\n",
    "\n",
    "Energy_list = [start_energy] \n",
    "Magnet_list = [start_magnet]\n",
    "\n",
    "\n",
    "\n",
    "while n0<n_max:\n",
    "\ttemp = update(start_matrix,start_energy, start_magnet)\n",
    "\tEnergy_list.append(temp[1])\n",
    "\tMagnet_list.append(temp[2])\n",
    "\tstart_matrix, start_energy, start_magnet = temp\n",
    "\n",
    "\tn0 += 1\n",
    "\n"
   ]
  },
  {
   "cell_type": "code",
   "execution_count": 63,
   "metadata": {},
   "outputs": [
    {
     "data": {
      "text/plain": [
       "[<matplotlib.lines.Line2D at 0x7fcc7bb45590>]"
      ]
     },
     "execution_count": 63,
     "metadata": {},
     "output_type": "execute_result"
    },
    {
     "data": {
      "image/png": "[encoded data removed]",
      "text/plain": [
       "<Figure size 432x288 with 1 Axes>"
      ]
     },
     "metadata": {
      "needs_background": "light"
     },
     "output_type": "display_data"
    }
   ],
   "source": [
    "plt.plot(Magnet_list, '.')"
   ]
  },
  {
   "cell_type": "code",
   "execution_count": 64,
   "metadata": {},
   "outputs": [
    {
     "data": {
      "text/plain": [
       "[<matplotlib.lines.Line2D at 0x7fcc72ab3410>]"
      ]
     },
     "execution_count": 64,
     "metadata": {},
     "output_type": "execute_result"
    },
    {
     "data": {
      "image/png": "[encoded data removed]",
      "text/plain": [
       "<Figure size 432x288 with 1 Axes>"
      ]
     },
     "metadata": {
      "needs_background": "light"
     },
     "output_type": "display_data"
    }
   ],
   "source": [
    "plt.plot(Energy_list, '.')"
   ]
  },
  {
   "cell_type": "code",
   "execution_count": 65,
   "metadata": {},
   "outputs": [
    {
     "data": {
      "text/plain": [
       "<matplotlib.image.AxesImage at 0x7fcc6e6fe850>"
      ]
     },
     "execution_count": 65,
     "metadata": {},
     "output_type": "execute_result"
    },
    {
     "data": {
      "image/png": "[encoded data removed]",
      "text/plain": [
       "<Figure size 432x288 with 1 Axes>"
      ]
     },
     "metadata": {
      "needs_background": "light"
     },
     "output_type": "display_data"
    }
   ],
   "source": [
    "plt.imshow(start_matrix)"
   ]
  },
  {
   "cell_type": "code",
   "execution_count": 25,
   "metadata": {},
   "outputs": [
    {
     "name": "stdout",
     "output_type": "stream",
     "text": [
      "1000000\n"
     ]
    }
   ],
   "source": [
    "exp_E = []\n",
    "\n",
    "for i in range(0,n_max, 500):\n",
    "\t#print(i)\n",
    "\t#print(Energy_list[0:i+1])\n",
    "\texp_E.append((1/n_max-i)*sum(Energy_list[0:i+1]))\n",
    "print(n_max)"
   ]
  },
  {
   "cell_type": "code",
   "execution_count": null,
   "metadata": {},
   "outputs": [],
   "source": []
  }
 ],
 "metadata": {
  "kernelspec": {
   "display_name": "Python 3.7.7 ('tf')",
   "language": "python",
   "name": "python3"
  },
  "language_info": {
   "codemirror_mode": {
    "name": "ipython",
    "version": 3
   },
   "file_extension": ".py",
   "mimetype": "text/x-python",
   "name": "python",
   "nbconvert_exporter": "python",
   "pygments_lexer": "ipython3",
   "version": "3.7.7"
  },
  "orig_nbformat": 4,
  "vscode": {
   "interpreter": {
    "hash": "9a349dbb93854d2db23c0e7332abcc31d5d53142f080979199291b8c297d9713"
   }
  }
 },
 "nbformat": 4,
 "nbformat_minor": 2
}

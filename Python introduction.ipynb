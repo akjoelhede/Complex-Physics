{
 "cells": [
  {
   "cell_type": "markdown",
   "metadata": {
    "ExecuteTime": {
     "end_time": "2021-07-28T18:00:46.466879Z",
     "start_time": "2021-07-28T18:00:46.462256Z"
    }
   },
   "source": [
    "# Python introduction\n",
    "In python it is possible to du data processing, visualization, simulations, games and loads of other fun stuff. This is meant as a basic python introduction."
   ]
  },
  {
   "cell_type": "markdown",
   "metadata": {},
   "source": [
    "This is Jupyter Lab. Ve can make sections of code (the instructions for the computer, colored slightly gray) and sections with code. Hover over buttons above for description of what they do."
   ]
  },
  {
   "cell_type": "markdown",
   "metadata": {},
   "source": [
    "### Variables\n",
    "In python we can define variables, which are names with an assigned value. For example:"
   ]
  },
  {
   "cell_type": "code",
   "execution_count": null,
   "metadata": {},
   "outputs": [],
   "source": [
    "magic_number = 5"
   ]
  },
  {
   "cell_type": "markdown",
   "metadata": {},
   "source": [
    "Now \"magic_number\" is an alias for 5. Let us write 2\\*5 using this variable (print(...) shows the output of the code in the parenthesies)"
   ]
  },
  {
   "cell_type": "code",
   "execution_count": null,
   "metadata": {},
   "outputs": [],
   "source": [
    "print(2*magic_number)"
   ]
  },
  {
   "cell_type": "markdown",
   "metadata": {},
   "source": [
    "##### Task 1: Try to define a variable with the value 10, and print it"
   ]
  },
  {
   "cell_type": "code",
   "execution_count": null,
   "metadata": {},
   "outputs": [],
   "source": [
    "#### Write here #####"
   ]
  },
  {
   "cell_type": "markdown",
   "metadata": {},
   "source": [
    "We can also redefine variables to have a new value"
   ]
  },
  {
   "cell_type": "code",
   "execution_count": null,
   "metadata": {},
   "outputs": [],
   "source": [
    "x = 5\n",
    "print(\"Now x has the value: \", x) # btw we can use # to denote a comment\n",
    "x = \"A sentence\" # and the content between two citation marks are used to write text verbatum\n",
    "print(\"And now x has the value: \", x) "
   ]
  },
  {
   "cell_type": "markdown",
   "metadata": {},
   "source": [
    "But be carefull about redefining variables too much, it is a source of many hard-to-debug mistakes and makes the code unreadable if one has to mentally track which on 5 different definitions is applicable at one time."
   ]
  },
  {
   "cell_type": "markdown",
   "metadata": {},
   "source": [
    "##### Task 2: multiply a, b og c (defined below) to get -6, og print svaret:"
   ]
  },
  {
   "cell_type": "code",
   "execution_count": 1,
   "metadata": {},
   "outputs": [
    {
     "name": "stdout",
     "output_type": "stream",
     "text": [
      "-6\n"
     ]
    }
   ],
   "source": [
    "a = 2\n",
    "b = 3\n",
    "c = -1\n",
    "print(a*b*c) # <- Write your solution here"
   ]
  },
  {
   "cell_type": "markdown",
   "metadata": {},
   "source": [
    "But we dont have to simply print the result of a computation. We can store it in a new variable! \n",
    "##### Task 3: Make a new variable \"twelve\" below with the value 12 (But without writing 12 directly, but rather the values of a, b og c), og print its value:"
   ]
  },
  {
   "cell_type": "code",
   "execution_count": null,
   "metadata": {},
   "outputs": [],
   "source": [
    "# <- Write your solution here"
   ]
  },
  {
   "cell_type": "markdown",
   "metadata": {},
   "source": [
    "### If statements\n",
    "\n",
    "To do anything meaningfull decisions (also called branches) are essential. Ie. if event a occurs do x, otherwise do y.\n",
    "\n",
    "For example, let's say we want to check whether magic_number is negative:"
   ]
  },
  {
   "cell_type": "code",
   "execution_count": null,
   "metadata": {},
   "outputs": [],
   "source": [
    "if magic_number < 0:\n",
    "    print(\"magic_number is negative\")"
   ]
  },
  {
   "cell_type": "markdown",
   "metadata": {},
   "source": [
    "If we want to do anything if the condition is not fulfilled, we can use else:"
   ]
  },
  {
   "cell_type": "code",
   "execution_count": null,
   "metadata": {},
   "outputs": [],
   "source": [
    "if magic_number < 0:\n",
    "    print(\"magic_number is negative\")\n",
    "else:\n",
    "    print(\"magic_number is not negative\")"
   ]
  },
  {
   "cell_type": "markdown",
   "metadata": {},
   "source": [
    "We can also add other conditions using \"elif\", and we can add arbitrarily many of those. Let's write out whether magic_number is negative, 0 or positive:"
   ]
  },
  {
   "cell_type": "code",
   "execution_count": null,
   "metadata": {},
   "outputs": [],
   "source": [
    "if magic_number < 0:\n",
    "    print(\"magic_number is negative\")\n",
    "elif magic_number == 0:\n",
    "    print(\"magic_number is 0\")\n",
    "else:\n",
    "    print(\"magic_number is positive\")"
   ]
  },
  {
   "cell_type": "markdown",
   "metadata": {},
   "source": [
    "##### Task 4: Change the value of magic_number (1) so that the code prints \"magic_number is 0\", and (2) so that the code prints \"magic_number is negative\""
   ]
  },
  {
   "cell_type": "markdown",
   "metadata": {},
   "source": [
    "##### Task 5: Define the variable y as the absolute value of magic_number. One can change the sign of a variable by prepending a minus, eg \"-magic_number\". Test that your code works"
   ]
  },
  {
   "cell_type": "code",
   "execution_count": null,
   "metadata": {},
   "outputs": [],
   "source": [
    "# <- Write your code here"
   ]
  },
  {
   "cell_type": "markdown",
   "metadata": {},
   "source": [
    "### Libraries/packages\n",
    "Python is extensively used many places, from websites, mapping software, data processing in science and machine learning. To have such a broad applicability most interesting functionality resides in packages so we can avoid having to care about lots of functionality and tools which is not currently useful to us.\n",
    "\n",
    "The two most useful libraries in this course is Numeric Python (numpy) which contains lots of math functionality and ability to modify collections of numbers (arrays), as well as Mathematical Plotting Library (matplotlib) which enables us to make nice plots.\n",
    "\n",
    "To \"import\" these libraries, the first code in a python program will almost always be the following:"
   ]
  },
  {
   "cell_type": "code",
   "execution_count": null,
   "metadata": {},
   "outputs": [],
   "source": [
    "import numpy as np\n",
    "import matplotlib.pyplot as plt"
   ]
  },
  {
   "cell_type": "markdown",
   "metadata": {},
   "source": [
    "Now we can eg write np.sin(x) to calculate $sin(x)$."
   ]
  },
  {
   "cell_type": "markdown",
   "metadata": {},
   "source": [
    "##### Task 6: Calculate $cos(1)$ using np.cos"
   ]
  },
  {
   "cell_type": "code",
   "execution_count": null,
   "metadata": {},
   "outputs": [],
   "source": []
  },
  {
   "cell_type": "markdown",
   "metadata": {},
   "source": [
    "## Arrays\n",
    "\n",
    "Usually in this course we have a system defined by a large collection of numbers on which we would like to do calculations. Eg this could be some interesting statistic of a simulation calculated after each iteration, or it could be the system itself. For this, we use \"arrays\" which are provided by numpy. Working on these are also A LOT (~100x) faster than ordinary python."
   ]
  },
  {
   "cell_type": "code",
   "execution_count": null,
   "metadata": {},
   "outputs": [],
   "source": [
    "array_of_numbers = np.array([1,2,3,4,5,6]) \n",
    "print(\"array_of_numbers: \", array_of_numbers) # And we can print them\n",
    "# Other very important ways of making an array:\n",
    "print(\"ones: \", np.ones(5)) # make a list of 5 ones\n",
    "print(\"rand: \", np.random.rand(5)) # make a list of 5 uniformly random numbers [0-1]\n",
    "print(\"randn: \", np.random.randn(5)) # make a list of 5 standard gaussian random numbers"
   ]
  },
  {
   "cell_type": "markdown",
   "metadata": {},
   "source": [
    "We can also access individual elements:"
   ]
  },
  {
   "cell_type": "code",
   "execution_count": null,
   "metadata": {},
   "outputs": [],
   "source": [
    "print(array_of_numbers[5]) # with the square parentesies we specify which element we want\n",
    "print(array_of_numbers[0]) # Important: 0, not 1, is the first number\n",
    "array_of_numbers[0] = 0\n",
    "print(array_of_numbers[0]) # now the element has the value 0\n",
    "print(array_of_numbers[-2])# We can also use negative numbers which means counting from the last element (here -1 is the last)"
   ]
  },
  {
   "cell_type": "markdown",
   "metadata": {},
   "source": [
    "And access sections of the array (called slicing):"
   ]
  },
  {
   "cell_type": "code",
   "execution_count": null,
   "metadata": {},
   "outputs": [],
   "source": [
    "array_of_numbers[2:5] # notice, the end is non-inclusive"
   ]
  },
  {
   "cell_type": "markdown",
   "metadata": {},
   "source": [
    "If we want to get the size of an array, we can write"
   ]
  },
  {
   "cell_type": "code",
   "execution_count": null,
   "metadata": {},
   "outputs": [],
   "source": [
    "print(array_of_numbers.shape[0])"
   ]
  },
  {
   "cell_type": "markdown",
   "metadata": {},
   "source": [
    "Actually, .shape returns a list (we will see below why), which is why we have to access the 0'th element"
   ]
  },
  {
   "cell_type": "markdown",
   "metadata": {},
   "source": [
    "##### Task 7: Calculate 3+5, but where 3 and 5 is extracted from array_of_numbers\n",
    "Hint: remember how indexing works"
   ]
  },
  {
   "cell_type": "code",
   "execution_count": null,
   "metadata": {},
   "outputs": [],
   "source": []
  },
  {
   "cell_type": "markdown",
   "metadata": {},
   "source": [
    "##### Task 8: Calculate the sum of the sine of the elements of array_of_numbers\n",
    "Hint: np.sin() can operate on arrays, and np.sum() takes an array and calculates the sum:"
   ]
  },
  {
   "cell_type": "code",
   "execution_count": null,
   "metadata": {},
   "outputs": [],
   "source": []
  },
  {
   "cell_type": "markdown",
   "metadata": {},
   "source": [
    "We will in this course often use multidimensional arrays, eg to represent a 2d grid of spins or heights. Numpy is very usefull for this, which is also why .shape returned a list - in general there can be N dimensions which can each have a different length. All of the initialization functions shown above accepts a list of numbers, eg to get a grid of 3x3 normal random numbers or 2x4 ones:"
   ]
  },
  {
   "cell_type": "code",
   "execution_count": null,
   "metadata": {},
   "outputs": [],
   "source": [
    "print(np.random.randn(3,3)) # here randn is a bit wierd, just accept it\n",
    "print(np.ones([2,4]))       # most functions need a list of the length of each dimension"
   ]
  },
  {
   "cell_type": "markdown",
   "metadata": {},
   "source": [
    "Mathematical functions and sum work perfectly with these, but we can also eg. take the sum of each row, ie along the columns:"
   ]
  },
  {
   "cell_type": "code",
   "execution_count": null,
   "metadata": {},
   "outputs": [],
   "source": [
    "random_2d = np.random.randn(4,3)\n",
    "print(random_2d)\n",
    "print(np.sum(random_2d, axis=1)) # if we instead wrote axis=0 we would instead take the average along the rows, and get 3 numbers"
   ]
  },
  {
   "cell_type": "markdown",
   "metadata": {},
   "source": [
    "We can also do indexing on these arrays:"
   ]
  },
  {
   "cell_type": "code",
   "execution_count": null,
   "metadata": {},
   "outputs": [],
   "source": [
    "print(random_2d[3,2])"
   ]
  },
  {
   "cell_type": "markdown",
   "metadata": {},
   "source": [
    "Often in simulations it is usefull to define an array where each element is one of some list, eg each element is either -1 or 1, here with probablilities 30% and 70% respectively. See the example below, which also shows this work with muliple dimensions.\n",
    "\n",
    "warning: It is very important that the sum of the probabilities add to 1."
   ]
  },
  {
   "cell_type": "code",
   "execution_count": null,
   "metadata": {},
   "outputs": [],
   "source": [
    "np.random.choice([-1,1], [3,5], p=[0.3,0.7]) #3x5 array of -1 and 1's"
   ]
  },
  {
   "cell_type": "markdown",
   "metadata": {},
   "source": [
    "## Mathematics"
   ]
  },
  {
   "cell_type": "markdown",
   "metadata": {},
   "source": [
    "Numpy has all of the functions you would expect from a normal calculator"
   ]
  },
  {
   "cell_type": "code",
   "execution_count": null,
   "metadata": {},
   "outputs": [],
   "source": [
    "x=np.pi                         # This is pi\n",
    "print(\"x+1    = \", 1+x)         # We can add...\n",
    "print(\"2*x    = \", 2*x)         # Multiply...\n",
    "print(\"x/4    = \", x/4)         # Divide  \n",
    "print(\"sin(x) = \", np.sin(x))   # take sine, cos\n",
    "print(\"cos(x) = \", np.cos(x))\n",
    "print(\"sqrt(x) = \", np.sqrt(x)) # roots...\n",
    "print(\"x^4 = \", x**4)           # exponents...\n",
    "print(\"ln(x) = \", np.log(x))    # logarithms...\n",
    "print(\"exp(x) = \", np.exp(x))   # and exponential function (e^x) ..."
   ]
  },
  {
   "cell_type": "markdown",
   "metadata": {},
   "source": [
    "Normal parenthesis rules apply. But be careful, x^2 means something completely different!"
   ]
  },
  {
   "cell_type": "markdown",
   "metadata": {},
   "source": [
    "##### Task 9: Calculate $\\exp(-x^2/a^2)$ for x=2 og a=3"
   ]
  },
  {
   "cell_type": "code",
   "execution_count": null,
   "metadata": {},
   "outputs": [],
   "source": []
  },
  {
   "cell_type": "markdown",
   "metadata": {},
   "source": [
    "##### Task 10: Calculate $\\log_{1/9}(\\sqrt{27})$, given the identity $\\log_b(x)=\\frac{\\ln(x)}{\\ln(b)}$"
   ]
  },
  {
   "cell_type": "code",
   "execution_count": null,
   "metadata": {},
   "outputs": [],
   "source": []
  },
  {
   "cell_type": "markdown",
   "metadata": {},
   "source": [
    "##### Opgave 11: Calculate $\\log_{1/9}(\\sqrt{27})$ but using variables for results of intermediate calculations (ie. define eg a=$\\sqrt{27}$ og and use a in further calculation)"
   ]
  },
  {
   "cell_type": "code",
   "execution_count": null,
   "metadata": {},
   "outputs": [],
   "source": []
  },
  {
   "cell_type": "markdown",
   "metadata": {},
   "source": [
    "## Loops\n",
    "It is usually the case that we want to repeat some calculation (eg the update step) and we of cause do not just copy-paste our code N times. For this, we have so called loops. Eg, if we want to calculate the sum of array_of_numbers, we could write:"
   ]
  },
  {
   "cell_type": "code",
   "execution_count": null,
   "metadata": {},
   "outputs": [],
   "source": [
    "partial_sum = 0\n",
    "x = array_of_numbers[0]\n",
    "partial_sum += x  # partial_sum += x is short for partial_sum = partial_sum + x\n",
    "x = array_of_numbers[1]\n",
    "partial_sum += x\n",
    "x = array_of_numbers[2]\n",
    "partial_sum += x\n",
    "# ... and so on 7 times more\n",
    "print(partial_sum)"
   ]
  },
  {
   "cell_type": "markdown",
   "metadata": {},
   "source": [
    "But it would be much better to write"
   ]
  },
  {
   "cell_type": "code",
   "execution_count": null,
   "metadata": {},
   "outputs": [],
   "source": [
    "partial_sum = 0\n",
    "for x in array_of_numbers:\n",
    "    partial_sum += x\n",
    "print(partial_sum)"
   ]
  },
  {
   "cell_type": "markdown",
   "metadata": {},
   "source": [
    "Her bliver x altså omdefineret til hver værdi i array'et. Først er x det første element, så er x det andet element osv. Så bliver al den indrykkede kode kørt med den nye definition af x, og det sker så for hvert element i array_af_tal. "
   ]
  },
  {
   "cell_type": "markdown",
   "metadata": {},
   "source": [
    "Here, we would of cause just write \"print(np.sum(array_of_numbers))\", but that is often not the case"
   ]
  },
  {
   "cell_type": "markdown",
   "metadata": {},
   "source": [
    "##### Task 12: Calculate the sum of the squares of all elements of array_of_numbers using a loop (bonus points for also writing the equivilent numpy code)"
   ]
  },
  {
   "cell_type": "code",
   "execution_count": null,
   "metadata": {},
   "outputs": [],
   "source": []
  },
  {
   "cell_type": "markdown",
   "metadata": {},
   "source": [
    "##### Task 13: Calculate the sum of all odd elements of array_of_numbers\n",
    "Hint: x % 2 == 0 is true if x is even and x % 2 == 1 is true if it is odd. Use this in a if statement in combination with a loop.  ( \"%\" in python means modulo og calculates the remainder of a division)"
   ]
  },
  {
   "cell_type": "code",
   "execution_count": null,
   "metadata": {},
   "outputs": [],
   "source": []
  },
  {
   "cell_type": "markdown",
   "metadata": {},
   "source": [
    "Sometimes, we dont just want to run through a list, but want to stop at a given condition. For this we can use the keyword \"break\" to halt the loop. What does the below do?"
   ]
  },
  {
   "cell_type": "code",
   "execution_count": null,
   "metadata": {},
   "outputs": [],
   "source": [
    "partial_sum = 0\n",
    "for x in array_of_numbers:\n",
    "    partial_sum += x\n",
    "    print(x)\n",
    "    if partial_sum > 10:\n",
    "        break"
   ]
  },
  {
   "cell_type": "markdown",
   "metadata": {},
   "source": [
    "Another useful loop structure is the while loop, but that is strictly not neccecary for this course."
   ]
  },
  {
   "cell_type": "markdown",
   "metadata": {},
   "source": [
    "## Functions"
   ]
  },
  {
   "cell_type": "markdown",
   "metadata": {},
   "source": [
    "Often it is desirable to run some piece of code multiple times, eg $\\exp(-x^2/a^2)$ for multiple values of a and x. In mathematics we could then define the function $f(x,a) = \\exp(-x^2/a^2)$, and then evaluate $f(x,a)$ for each of our values. This is exactly the approach in python too.\n",
    "\n",
    "To define a function we use the magic word \"def\", and then choose the name of the function (here \"f\"), and then we have a comma seperated list of all of the arguments of the function (here \"x\" and \"a\"), also called the inputs. In the function we can then write for loops, if statements, define variables and much more, and when we are done we specify the result of the function using \"return\". At this point the function ends, and this value is the output of the function."
   ]
  },
  {
   "cell_type": "code",
   "execution_count": null,
   "metadata": {},
   "outputs": [],
   "source": [
    "def f(x, a):\n",
    "    res = np.exp(-(x/a)**2)\n",
    "    return res\n",
    "\n",
    "print(f(2,1))\n",
    "print(f(-2,1))\n",
    "print(f(2,2))\n",
    "print(f(-2,2))"
   ]
  },
  {
   "cell_type": "markdown",
   "metadata": {},
   "source": [
    "We have already seen multiple examples of functions, this is exactly what np.sum, np.ones, np.exp and so on was. One might think that a computer is very powerful, but it actually just does vary simple calculations very fast: to calculate eg the exponential of a number, numpy has implemented a quite complicated formula consisting only of basic calculations. Luckily, we dont have to care, but the point is that packing complicated behaviour into functions makes our code SO much more simple.\n",
    "\n",
    "I will heavily encurage the use of functions when writing simulations"
   ]
  },
  {
   "cell_type": "markdown",
   "metadata": {},
   "source": [
    "##### Task 14: Define a function which calculates x*(sin(x)^2+cos(x)^2)"
   ]
  },
  {
   "cell_type": "code",
   "execution_count": null,
   "metadata": {},
   "outputs": [],
   "source": []
  },
  {
   "cell_type": "markdown",
   "metadata": {},
   "source": [
    "##### Task 15: Make a function named array_sum which calculates the sum of all elements of a 1-d array given as an argument\n",
    "Hint: Can we reuse some code written above?"
   ]
  },
  {
   "cell_type": "code",
   "execution_count": null,
   "metadata": {},
   "outputs": [],
   "source": []
  },
  {
   "cell_type": "markdown",
   "metadata": {},
   "source": [
    "##### Task 16: Make a function which prints whether or not an input array has even length (ie does not return anything)\n",
    "Hint: What did we do before when checking for whether a number is even?"
   ]
  },
  {
   "cell_type": "code",
   "execution_count": null,
   "metadata": {},
   "outputs": [],
   "source": []
  },
  {
   "cell_type": "markdown",
   "metadata": {},
   "source": [
    "##### Task 17: Make a function \"element_of\" which takes two arguments: an array \"list\" and a number \"number\", and returns \"included\" if \"number\" is an element of \"list\" and \"not included\" otherwise.\n",
    "Hint: Here we have to loop through \"list\" and use x == a. When should we return (when should the code stop?)"
   ]
  },
  {
   "cell_type": "code",
   "execution_count": null,
   "metadata": {},
   "outputs": [],
   "source": []
  },
  {
   "cell_type": "markdown",
   "metadata": {},
   "source": [
    "## Data visualization"
   ]
  },
  {
   "cell_type": "markdown",
   "metadata": {},
   "source": [
    "Earlier we imported matplotlib, now we need to use it. This is going to be usefull for analyzing the simulation output.\n",
    "\n",
    "Eg. lets say we want to plot $f(x)=x^2$. We do that by choosing some values of x, calculate $f(x)$ there and then plot those pairs. Eg:"
   ]
  },
  {
   "cell_type": "code",
   "execution_count": null,
   "metadata": {},
   "outputs": [],
   "source": [
    "x = np.array([0,1,2,3])\n",
    "y = x**2\n",
    "plt.plot(x,y)"
   ]
  },
  {
   "cell_type": "markdown",
   "metadata": {},
   "source": [
    "To make it more smooth we calculate the function value at more intermediate points. This can be done using np.linspace(a,b,num) which generate an array with \"num\" values in the interval [a,b]. Eg."
   ]
  },
  {
   "cell_type": "code",
   "execution_count": null,
   "metadata": {},
   "outputs": [],
   "source": [
    "x = np.linspace(0,3,100)\n",
    "y = x**2\n",
    "plt.plot(x,y)"
   ]
  },
  {
   "cell_type": "markdown",
   "metadata": {},
   "source": [
    "Should be much better!\n",
    "##### Task 18: Plot $sin(x)$ and $cos(x)$ for x from 0 to $2\\pi$\n",
    "Hint: If you write plt.plot twice in a cell, they are plotted in the same figure"
   ]
  },
  {
   "cell_type": "code",
   "execution_count": null,
   "metadata": {},
   "outputs": [],
   "source": []
  },
  {
   "cell_type": "markdown",
   "metadata": {},
   "source": [
    "We can use plt.xlabel, plt.ylabel and plt.legend([\"name1\", \"name2\"]) to add names to the axies and add a label respectively\n",
    "##### Task 19: Give appropiate axislabels and a signature on the plot of $sin(x)$ and $cos(x)$"
   ]
  },
  {
   "cell_type": "code",
   "execution_count": null,
   "metadata": {},
   "outputs": [],
   "source": []
  },
  {
   "cell_type": "markdown",
   "metadata": {},
   "source": [
    "If we want to control the axis ranges, we can use plt.xlim(min, max) and plt.ylim(min, max) to zoom the x- and y-axis respectively, where min and max are the desired range limits.\n",
    "\n",
    "##### task 20: add $1/x$ to the plot from the previous task, and zoom back appropiately"
   ]
  },
  {
   "cell_type": "markdown",
   "metadata": {},
   "source": []
  },
  {
   "cell_type": "markdown",
   "metadata": {},
   "source": [
    "Some times we want to make other types of plots, eg the below code produces a scatter plot"
   ]
  },
  {
   "cell_type": "code",
   "execution_count": null,
   "metadata": {},
   "outputs": [],
   "source": [
    "x = np.linspace(0, 10, 100)\n",
    "y = 0.3*x**2+np.random.rand(len(x))*10\n",
    "plt.scatter(x,y)"
   ]
  },
  {
   "cell_type": "markdown",
   "metadata": {},
   "source": [
    "And this code makes a histogram"
   ]
  },
  {
   "cell_type": "code",
   "execution_count": null,
   "metadata": {},
   "outputs": [],
   "source": [
    "plt.hist(y,50);"
   ]
  },
  {
   "cell_type": "markdown",
   "metadata": {},
   "source": [
    "where 50 er the number of bins"
   ]
  }
 ],
 "metadata": {
  "kernelspec": {
   "display_name": "Python 3.7.7 ('tf')",
   "language": "python",
   "name": "python3"
  },
  "language_info": {
   "codemirror_mode": {
    "name": "ipython",
    "version": 3
   },
   "file_extension": ".py",
   "mimetype": "text/x-python",
   "name": "python",
   "nbconvert_exporter": "python",
   "pygments_lexer": "ipython3",
   "version": "3.7.7"
  },
  "latex_envs": {
   "LaTeX_envs_menu_present": true,
   "autoclose": false,
   "autocomplete": true,
   "bibliofile": "biblio.bib",
   "cite_by": "apalike",
   "current_citInitial": 1,
   "eqLabelWithNumbers": true,
   "eqNumInitial": 1,
   "hotkeys": {
    "equation": "Ctrl-E",
    "itemize": "Ctrl-I"
   },
   "labels_anchors": false,
   "latex_user_defs": false,
   "report_style_numbering": false,
   "user_envs_cfg": false
  },
  "toc": {
   "base_numbering": 1,
   "nav_menu": {},
   "number_sections": true,
   "sideBar": true,
   "skip_h1_title": false,
   "title_cell": "Table of Contents",
   "title_sidebar": "Contents",
   "toc_cell": false,
   "toc_position": {},
   "toc_section_display": true,
   "toc_window_display": false
  },
  "varInspector": {
   "cols": {
    "lenName": 16,
    "lenType": 16,
    "lenVar": 40
   },
   "kernels_config": {
    "python": {
     "delete_cmd_postfix": "",
     "delete_cmd_prefix": "del ",
     "library": "var_list.py",
     "varRefreshCmd": "print(var_dic_list())"
    },
    "r": {
     "delete_cmd_postfix": ") ",
     "delete_cmd_prefix": "rm(",
     "library": "var_list.r",
     "varRefreshCmd": "cat(var_dic_list()) "
    }
   },
   "types_to_exclude": [
    "module",
    "function",
    "builtin_function_or_method",
    "instance",
    "_Feature"
   ],
   "window_display": false
  },
  "vscode": {
   "interpreter": {
    "hash": "9a349dbb93854d2db23c0e7332abcc31d5d53142f080979199291b8c297d9713"
   }
  }
 },
 "nbformat": 4,
 "nbformat_minor": 4
}
